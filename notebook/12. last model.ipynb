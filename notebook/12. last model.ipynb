{
 "cells": [
  {
   "cell_type": "code",
   "execution_count": 1,
   "metadata": {
    "collapsed": true
   },
   "outputs": [],
   "source": [
    "import numpy as np \n",
    "import pandas as pd \n",
    "import sklearn\n",
    "from sklearn.ensemble import RandomForestClassifier\n",
    "from sklearn import preprocessing\n",
    "from datetime import datetime\n",
    "import os\n"
   ]
  },
  {
   "cell_type": "code",
   "execution_count": 133,
   "metadata": {
    "collapsed": false,
    "scrolled": false
   },
   "outputs": [
    {
     "name": "stdout",
     "output_type": "stream",
     "text": [
      "--------------------------------------\n",
      "............\n"
     ]
    }
   ],
   "source": [
    "%%time\n",
    "train = pd.read_csv('../data/train_2013.csv',\n",
    "                    dtype={'is_booking':bool,'srch_destination_id':np.int32, 'hotel_cluster':np.int32},\n",
    "                    usecols=['srch_destination_id','is_booking','hotel_cluster'],\n",
    "                    chunksize=1000000)\n",
    "\n",
    "aggs = []\n",
    "print('-'*38)\n",
    "for chunk in train:\n",
    "    agg = chunk.groupby(['srch_destination_id',\n",
    "                         'hotel_cluster'])['is_booking'].agg(['sum','count'])\n",
    "    agg.reset_index(inplace=True)\n",
    "    aggs.append(agg)\n",
    "    print('.',end='')\n",
    "    \n",
    "print('')\n",
    "\n",
    "aggs = pd.concat(aggs, axis=0)\n",
    "\n",
    "agg = aggs.groupby(['srch_destination_id','hotel_cluster']).sum().reset_index()\n",
    "agg.head()\n",
    "\n",
    "agg['count'] -= agg['sum']\n",
    "agg = agg.rename(columns={'sum':'bookings','count':'clicks'})\n",
    "agg['relevance'] = agg['bookings'] + 0.1 * agg['clicks']\n",
    "\n",
    "print(\"preprocess end\")\n",
    "\n",
    "def most_popular(group, n_max=5):\n",
    "    relevance = group['relevance'].values\n",
    "    hotel_cluster = group['hotel_cluster'].values\n",
    "    most_popular = hotel_cluster[np.argsort(relevance)[::-1]][:n_max]\n",
    "    return np.array_str(most_popular)[1:-1] \n",
    "\n",
    "most_pop = agg.groupby(['srch_destination_id']).apply(most_popular)\n",
    "most_pop = pd.DataFrame(most_pop).rename(columns={0:'hotel_cluster'})\n",
    "\n",
    "train_df = pd.read_csv(\"../data/train_2013.csv\", usecols=['srch_destination_id','is_booking','hotel_cluster', 'user_location_city', 'orig_destination_distance'])\n",
    "\n",
    "test = pd.read_csv('../data/test.csv',\n",
    "                    dtype={'srch_destination_id':np.int32},\n",
    "                    usecols=['srch_destination_id', 'user_location_city', 'orig_destination_distance'])\n",
    "\n",
    "test = test.merge(most_pop, how='left',left_on='srch_destination_id',right_index=True)\n",
    "\n",
    "train_df = train_df.fillna(-1)\n",
    "train_df = train_df[train_df[\"is_booking\"] == 1]\n",
    "np.random.seed(402)\n",
    "train_df = train_df.ix[np.random.choice(train_df.index, 50000, replace=False)]\n",
    "\n",
    "train_x = train_df.ix[:,:3]\n",
    "train_y = train_df.ix[:,4:5]\n",
    "\n",
    "%%time\n",
    "print(\"modeling strart\")\n",
    "model = RandomForestClassifier(n_estimators=10, max_depth=7, n_jobs=-1, random_state=777)\n",
    "print('='*50)\n",
    "print('# Test shape : {}'.format(test.shape))\n",
    "\n",
    "model.fit(train_x,train_y)\n",
    "\n",
    "print(\"preprocess test data\")\n",
    "test1 = test1.fillna(-1)\n",
    "test1 = test1.drop(\"hotel_cluster\", axis=1)\n",
    "\n",
    "print(\"printing predict test data\")\n",
    "preds = model.predict_proba(test1)\n",
    "preds = np.fliplr(np.argsort(preds, axis=1))\n",
    "\n",
    "random_model = pd.DataFrame([ \" \".join(row) for row in preds[:,:5].astype(str)], columns=[\"hotel_cluster\"])\n",
    "\n",
    "test_sample = test.reset_index()\n",
    "test1 = test1.reset_index()\n",
    "\n",
    "\n",
    "test1 = pd.concat([test1,random_model], axis=1)\n",
    "\n",
    "test1 = test1[[\"index\",\"hotel_cluster\"]]\n",
    "\n",
    "result_df = test_sample.merge(test1, how = \"left\", on=\"index\", copy=False)[[\"hotel_cluster_x\", \"hotel_cluster_y\"]]\n",
    "\n",
    "result_df = result_df.fillna(\"\")\n",
    "result_df = result_df[\"hotel_cluster_x\"] + result_df[\"hotel_cluster_y\"]\n",
    "result_df = result_df.to_frame(name=\"hotel_cluster\")\n",
    "result_df.index.names = [\"id\"]\n",
    "\n",
    "file_name = datetime.now().strftime(\"result_%Y%m%d%H%M%S\") + '.csv'\n",
    "result_df.to_csv(os.path.join('../output',file_name), index=True)"
   ]
  },
  {
   "cell_type": "code",
   "execution_count": 132,
   "metadata": {
    "collapsed": false
   },
   "outputs": [],
   "source": []
  },
  {
   "cell_type": "code",
   "execution_count": 8,
   "metadata": {
    "collapsed": false
   },
   "outputs": [],
   "source": []
  },
  {
   "cell_type": "code",
   "execution_count": null,
   "metadata": {
    "collapsed": true
   },
   "outputs": [],
   "source": []
  },
  {
   "cell_type": "code",
   "execution_count": null,
   "metadata": {
    "collapsed": true
   },
   "outputs": [],
   "source": []
  },
  {
   "cell_type": "code",
   "execution_count": null,
   "metadata": {
    "collapsed": true
   },
   "outputs": [],
   "source": []
  },
  {
   "cell_type": "code",
   "execution_count": null,
   "metadata": {
    "collapsed": true
   },
   "outputs": [],
   "source": []
  }
 ],
 "metadata": {
  "kernelspec": {
   "display_name": "Python 3",
   "language": "python",
   "name": "python3"
  },
  "language_info": {
   "codemirror_mode": {
    "name": "ipython",
    "version": 3
   },
   "file_extension": ".py",
   "mimetype": "text/x-python",
   "name": "python",
   "nbconvert_exporter": "python",
   "pygments_lexer": "ipython3",
   "version": "3.5.2"
  }
 },
 "nbformat": 4,
 "nbformat_minor": 0
}
