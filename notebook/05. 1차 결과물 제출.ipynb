{
 "cells": [
  {
   "cell_type": "code",
   "execution_count": 1,
   "metadata": {
    "collapsed": true
   },
   "outputs": [],
   "source": [
    "import pandas as pd\n",
    "import numpy as np\n",
    "import seaborn as sns\n",
    "import matplotlib.pyplot as plt\n",
    "from __future__ import print_function\n",
    "import sklearn\n",
    "from sklearn.ensemble import RandomForestClassifier\n",
    "from sklearn import preprocessing\n",
    "from datetime import datetime\n",
    "import os\n",
    "\n",
    "%matplotlib inline\n",
    "%config InlineBackend.figure_format = 'png'\n",
    "pd.set_option(\"max_columns\",50)"
   ]
  },
  {
   "cell_type": "code",
   "execution_count": 2,
   "metadata": {
    "collapsed": false
   },
   "outputs": [
    {
     "name": "stdout",
     "output_type": "stream",
     "text": [
      "Wall time: 52.4 s\n"
     ]
    }
   ],
   "source": [
    "%%time\n",
    "train = pd.read_csv(\"../data/train_2013.csv\", index_col=0)\n",
    "train = train.reset_index(drop=True)\n",
    "np.random.seed(402)\n",
    "train = train.ix[np.random.choice(train.index, 50000)]\n",
    "train = train.reset_index(drop=True)\n",
    "\n",
    "test = pd.read_csv(\"../data/test.csv\")\n",
    "test_id = test[\"id\"]"
   ]
  },
  {
   "cell_type": "markdown",
   "metadata": {},
   "source": [
    "### Random forest를 통해 유의미한 Feature 8개 설정 ( h2o.ai도 사용함 ) => 그대로 결과물 제출"
   ]
  },
  {
   "cell_type": "code",
   "execution_count": 40,
   "metadata": {
    "collapsed": false
   },
   "outputs": [],
   "source": [
    "# use_col = [\"is_booking\", \"user_id\", \"date_time\",\"user_location_country\",\"orig_destination_distance\", \"srch_co\",\"srch_ci\",\"user_location_region\",\\\n",
    "#                \"hotel_market\",\"srch_destination_id\",\"hotel_cluster\"]"
   ]
  },
  {
   "cell_type": "code",
   "execution_count": 61,
   "metadata": {
    "collapsed": false
   },
   "outputs": [
    {
     "data": {
      "text/plain": [
       "Index([u'date_time', u'site_name', u'posa_continent', u'user_location_country',\n",
       "       u'user_location_region', u'user_location_city',\n",
       "       u'orig_destination_distance', u'user_id', u'is_mobile', u'is_package',\n",
       "       u'channel', u'srch_ci', u'srch_co', u'srch_adults_cnt',\n",
       "       u'srch_children_cnt', u'srch_rm_cnt', u'srch_destination_id',\n",
       "       u'srch_destination_type_id', u'is_booking', u'cnt', u'hotel_continent',\n",
       "       u'hotel_country', u'hotel_market', u'hotel_cluster'],\n",
       "      dtype='object')"
      ]
     },
     "execution_count": 61,
     "metadata": {},
     "output_type": "execute_result"
    }
   ],
   "source": [
    "train.columns"
   ]
  },
  {
   "cell_type": "code",
   "execution_count": 62,
   "metadata": {
    "collapsed": false,
    "scrolled": true
   },
   "outputs": [
    {
     "data": {
      "text/plain": [
       "Index([u'id', u'date_time', u'site_name', u'posa_continent',\n",
       "       u'user_location_country', u'user_location_region',\n",
       "       u'user_location_city', u'orig_destination_distance', u'user_id',\n",
       "       u'is_mobile', u'is_package', u'channel', u'srch_ci', u'srch_co',\n",
       "       u'srch_adults_cnt', u'srch_children_cnt', u'srch_rm_cnt',\n",
       "       u'srch_destination_id', u'srch_destination_type_id', u'hotel_continent',\n",
       "       u'hotel_country', u'hotel_market'],\n",
       "      dtype='object')"
      ]
     },
     "execution_count": 62,
     "metadata": {},
     "output_type": "execute_result"
    }
   ],
   "source": [
    "test.columns # id가 생기고 hotel_cluster / is_booking / cnt 가 사라짐"
   ]
  },
  {
   "cell_type": "code",
   "execution_count": 3,
   "metadata": {
    "collapsed": true
   },
   "outputs": [],
   "source": [
    "use_col2 = [\"user_id\", \"date_time\",\"user_location_country\",\"orig_destination_distance\", \"srch_co\",\"srch_ci\",\"user_location_region\",\\\n",
    "               \"hotel_market\",\"srch_destination_id\"]"
   ]
  },
  {
   "cell_type": "code",
   "execution_count": 4,
   "metadata": {
    "collapsed": false
   },
   "outputs": [],
   "source": [
    "train_y = train[[\"hotel_cluster\"]]\n",
    "train = train[use_col2]\n",
    "test = test[use_col2]"
   ]
  },
  {
   "cell_type": "code",
   "execution_count": 88,
   "metadata": {
    "collapsed": true
   },
   "outputs": [],
   "source": []
  },
  {
   "cell_type": "code",
   "execution_count": 5,
   "metadata": {
    "collapsed": false
   },
   "outputs": [
    {
     "name": "stderr",
     "output_type": "stream",
     "text": [
      "C:\\Users\\Byeon\\Anaconda3\\envs\\py27\\lib\\site-packages\\numpy\\lib\\arraysetops.py:200: FutureWarning: In the future, NAT != NAT will be True rather than False.\n",
      "  flag = np.concatenate(([True], aux[1:] != aux[:-1]))\n"
     ]
    },
    {
     "name": "stdout",
     "output_type": "stream",
     "text": [
      "Wall time: 16.3 s\n"
     ]
    }
   ],
   "source": [
    "%%time\n",
    "le = preprocessing.LabelEncoder()\n",
    "# train.fillna(0)\n",
    "# test.fillna(0)\n",
    "\n",
    "train[\"date_time\"] = pd.to_datetime(train[\"date_time\"], errors=\"coerce\")\n",
    "train[\"date_time\"] = train[\"date_time\"].dt.date\n",
    "train[\"srch_ci\"] = pd.to_datetime(train[\"srch_ci\"], errors=\"coerce\")\n",
    "train[\"srch_co\"] = pd.to_datetime(train[\"srch_co\"], errors=\"coerce\")\n",
    "\n",
    "train[\"date_time\"] = le.fit_transform(train[\"date_time\"])\n",
    "train[\"srch_ci\"] = le.fit_transform(train[\"srch_ci\"])\n",
    "train[\"srch_co\"] = le.fit_transform(train[\"srch_co\"])\n",
    "\n",
    "train[\"orig_destination_distance\"].fillna(0, inplace=True)\n",
    "\n",
    "test[\"date_time\"] = pd.to_datetime(test[\"date_time\"], errors=\"coerce\")\n",
    "test[\"date_time\"] = test[\"date_time\"].dt.date\n",
    "test[\"srch_ci\"] = pd.to_datetime(test[\"srch_ci\"], errors=\"coerce\")\n",
    "test[\"srch_co\"] = pd.to_datetime(test[\"srch_co\"], errors=\"coerce\")\n",
    "\n",
    "test[\"date_time\"] = le.fit_transform(test[\"date_time\"])\n",
    "test[\"srch_ci\"] = le.fit_transform(test[\"srch_ci\"])\n",
    "test[\"srch_co\"] = le.fit_transform(test[\"srch_co\"])\n",
    "\n",
    "test[\"orig_destination_distance\"].fillna(0, inplace=True)"
   ]
  },
  {
   "cell_type": "code",
   "execution_count": 12,
   "metadata": {
    "collapsed": true
   },
   "outputs": [],
   "source": [
    "model = RandomForestClassifier(n_estimators=10, max_depth=7, n_jobs=-1, random_state=777)"
   ]
  },
  {
   "cell_type": "code",
   "execution_count": 16,
   "metadata": {
    "collapsed": false
   },
   "outputs": [
    {
     "name": "stdout",
     "output_type": "stream",
     "text": [
      "==================================================\n",
      "# Test shape : (2528243, 9)\n",
      "Wall time: 6min 46s\n"
     ]
    }
   ],
   "source": [
    "%%time\n",
    "\n",
    "print('='*50)\n",
    "print('# Test shape : {}'.format(test.shape))\n",
    "\n",
    "model.fit(train,train_y)\n",
    "\n",
    "preds = model.predict_proba(test)\n",
    "preds = np.fliplr(np.argsort(preds, axis=1))\n"
   ]
  },
  {
   "cell_type": "code",
   "execution_count": 32,
   "metadata": {
    "collapsed": false,
    "scrolled": false
   },
   "outputs": [
    {
     "data": {
      "text/plain": [
       "array([[64,  5, ..., 25, 11],\n",
       "       [62, 78, ..., 82, 64],\n",
       "       ..., \n",
       "       [91, 48, ..., 41, 32],\n",
       "       [82, 30, ..., 58, 62]], dtype=int64)"
      ]
     },
     "execution_count": 32,
     "metadata": {},
     "output_type": "execute_result"
    }
   ],
   "source": [
    "preds[:,:5]"
   ]
  },
  {
   "cell_type": "code",
   "execution_count": 49,
   "metadata": {
    "collapsed": false,
    "scrolled": true
   },
   "outputs": [],
   "source": [
    "result_df = pd.DataFrame([ \" \".join(row) for row in preds[:,:5].astype(str)])"
   ]
  },
  {
   "cell_type": "code",
   "execution_count": 57,
   "metadata": {
    "collapsed": false
   },
   "outputs": [],
   "source": [
    "result_df = result_df.rename(index=str, columns={0:\"hotel_cluster\"})"
   ]
  },
  {
   "cell_type": "code",
   "execution_count": 72,
   "metadata": {
    "collapsed": true
   },
   "outputs": [],
   "source": [
    "result_df = result_df.reset_index()\n",
    "result_df = result_df.rename(index=str,columns={\"index\":\"id\"})"
   ]
  },
  {
   "cell_type": "code",
   "execution_count": 81,
   "metadata": {
    "collapsed": true
   },
   "outputs": [],
   "source": [
    "result_df1 = pd.read_csv(\"201702061420.csv\", index_col=\"id\").drop([\"Unnamed: 0\"], axis=1)"
   ]
  },
  {
   "cell_type": "code",
   "execution_count": 83,
   "metadata": {
    "collapsed": false
   },
   "outputs": [],
   "source": [
    "result_df1.to_csv(\"201702061422.csv\")\n"
   ]
  },
  {
   "cell_type": "code",
   "execution_count": 86,
   "metadata": {
    "collapsed": false
   },
   "outputs": [
    {
     "data": {
      "text/html": [
       "<div>\n",
       "<table border=\"1\" class=\"dataframe\">\n",
       "  <thead>\n",
       "    <tr style=\"text-align: right;\">\n",
       "      <th></th>\n",
       "      <th>hotel_cluster</th>\n",
       "    </tr>\n",
       "    <tr>\n",
       "      <th>id</th>\n",
       "      <th></th>\n",
       "    </tr>\n",
       "  </thead>\n",
       "  <tbody>\n",
       "    <tr>\n",
       "      <th>2528238</th>\n",
       "      <td>26 84 73 0 96</td>\n",
       "    </tr>\n",
       "    <tr>\n",
       "      <th>2528239</th>\n",
       "      <td>58 82 78 30 61</td>\n",
       "    </tr>\n",
       "    <tr>\n",
       "      <th>2528240</th>\n",
       "      <td>1 45 79 88 24</td>\n",
       "    </tr>\n",
       "    <tr>\n",
       "      <th>2528241</th>\n",
       "      <td>91 48 42 41 32</td>\n",
       "    </tr>\n",
       "    <tr>\n",
       "      <th>2528242</th>\n",
       "      <td>82 30 67 58 62</td>\n",
       "    </tr>\n",
       "  </tbody>\n",
       "</table>\n",
       "</div>"
      ],
      "text/plain": [
       "          hotel_cluster\n",
       "id                     \n",
       "2528238   26 84 73 0 96\n",
       "2528239  58 82 78 30 61\n",
       "2528240   1 45 79 88 24\n",
       "2528241  91 48 42 41 32\n",
       "2528242  82 30 67 58 62"
      ]
     },
     "execution_count": 86,
     "metadata": {},
     "output_type": "execute_result"
    }
   ],
   "source": [
    "result_df1.tail()"
   ]
  },
  {
   "cell_type": "markdown",
   "metadata": {},
   "source": [
    "public score = 0.14201"
   ]
  },
  {
   "cell_type": "code",
   "execution_count": 110,
   "metadata": {
    "collapsed": false
   },
   "outputs": [],
   "source": [
    "print(\"=\"*20)\n",
    "\n",
    "trn_x1 = train\n",
    "trn_y1 = train_y\n",
    "\n",
    "#     model = RandomForestClassifier(max_depth=3, n_jobs=-1, random_state=402)\n",
    "\n",
    "#     model.fit(trn_x1,trn_y1)\n",
    "\n",
    "importances = model.feature_importances_\n",
    "\n",
    "std = np.std([tree.feature_importances_ for tree in model.estimators_], axis=0)\n",
    "indices = np.argsort(importances)[::-1]\n",
    "\n",
    "print(\"Feature ranking:\")\n",
    "rank_series = pd.Series([])\n",
    "for f in range(trn_x1.shape[1]):\n",
    "    print(\"%d. feature %d %s (%f)\" % (f + 1, indices[f], trn_x1.columns[indices[f]], importances[indices[f]]))\n",
    "\n",
    "#         rank_series = rank_series.append(pd.Series([trn_x1.columns[indices[f]], importances[indices[f]]]))\n",
    "\n",
    "#     rank_df2.insert(len(rank_df2.columns), column=i ,value=rank_series)\n",
    "\n",
    "plt.title(\"Feature importances\")\n",
    "plt.bar(range(trn_x1.shape[1]), importances[indices], color=\"r\", yerr=std[indices], align=\"center\")\n",
    "plt.xticks(range(trn_x1.shape[1]), indices)\n",
    "plt.xlim([-1, trn_x1.shape[1]])\n",
    "plt.show()\n"
   ]
  },
  {
   "cell_type": "code",
   "execution_count": null,
   "metadata": {
    "collapsed": true
   },
   "outputs": [],
   "source": []
  },
  {
   "cell_type": "markdown",
   "metadata": {},
   "source": [
    "아래 feature 사용\n",
    "\n",
    "https://www.kaggle.com/jwegas/expedia-hotel-recommendations/randomforest-test-20160418/run/210428/code"
   ]
  },
  {
   "cell_type": "code",
   "execution_count": 2,
   "metadata": {
    "collapsed": false,
    "scrolled": true
   },
   "outputs": [
    {
     "name": "stdout",
     "output_type": "stream",
     "text": [
      "Wall time: 43.9 s\n"
     ]
    }
   ],
   "source": [
    "%%time\n",
    "train = pd.read_csv(\"../data/train_2013.csv\", index_col=0)\n",
    "train = train.reset_index(drop=True)\n",
    "np.random.seed(402)\n",
    "train = train.ix[np.random.choice(train.index, 50000)]\n",
    "train = train.reset_index(drop=True)\n",
    "\n",
    "print(\"resd the train.csv\")\n",
    "use_col3 = ['site_name', 'user_location_region', 'is_package', 'srch_adults_cnt', 'srch_children_cnt', 'srch_destination_id', 'hotel_market', 'hotel_country']\n",
    "train_y = train[[\"hotel_cluster\"]]\n",
    "train = train[use_col3]\n",
    "print(\"read the test.csv\")\n",
    "test = pd.read_csv(\"../data/test.csv\")\n",
    "test = test[use_col3]\n",
    "\n",
    "print(\"modeling strart\")\n",
    "model = RandomForestClassifier(n_estimators=10, max_depth=7, n_jobs=-1, random_state=777)\n",
    "print('='*50)\n",
    "print('# Test shape : {}'.format(test.shape))\n",
    "\n",
    "model.fit(train,train_y)\n",
    "\n",
    "preds = model.predict_proba(test)\n",
    "preds = np.fliplr(np.argsort(preds, axis=1))\n",
    "\n",
    "result_df = pd.DataFrame([ \" \".join(row) for row in preds[:,:5].astype(str)], columns=[\"hotel_cluster\"])\n",
    "result_df.index.names = [\"id\"]\n",
    "file_name = datetime.now().strftime(\"result_%Y%m%d%H%M%S\") + '.csv'\n",
    "result_df.to_csv(os.path.join('../output',file_name), index=True)"
   ]
  },
  {
   "cell_type": "markdown",
   "metadata": {},
   "source": [
    "## public score = 0.15316"
   ]
  },
  {
   "cell_type": "code",
   "execution_count": 8,
   "metadata": {
    "collapsed": false
   },
   "outputs": [
    {
     "name": "stdout",
     "output_type": "stream",
     "text": [
      "Feature ranking:\n",
      "1. feature 6 hotel_market (0.325721)\n",
      "2. feature 7 hotel_country (0.310161)\n",
      "3. feature 5 srch_destination_id (0.194103)\n",
      "4. feature 1 user_location_region (0.050452)\n",
      "5. feature 2 is_package (0.040391)\n",
      "6. feature 0 site_name (0.033722)\n",
      "7. feature 3 srch_adults_cnt (0.024316)\n",
      "8. feature 4 srch_children_cnt (0.021133)\n"
     ]
    },
    {
     "data": {
      "image/png": "[encoded data removed]",
      "text/plain": [
       "<matplotlib.figure.Figure at 0x15627b00>"
      ]
     },
     "metadata": {},
     "output_type": "display_data"
    }
   ],
   "source": [
    "importances = model.feature_importances_\n",
    "\n",
    "std = np.std([tree.feature_importances_ for tree in model.estimators_], axis=0)\n",
    "indices = np.argsort(importances)[::-1]\n",
    "\n",
    "print(\"Feature ranking:\")\n",
    "for f in range(train.shape[1]):\n",
    "    print(\"%d. feature %d %s (%f)\" % (f + 1, indices[f], train.columns[indices[f]], importances[indices[f]]))\n",
    "\n",
    "plt.title(\"Feature importances\")\n",
    "plt.bar(range(train.shape[1]), importances[indices], color=\"r\", yerr=std[indices], align=\"center\")\n",
    "plt.xticks(range(train.shape[1]), indices)\n",
    "plt.xlim([-1, train.shape[1]])\n",
    "plt.show()\n"
   ]
  },
  {
   "cell_type": "code",
   "execution_count": 18,
   "metadata": {
    "collapsed": true
   },
   "outputs": [],
   "source": []
  },
  {
   "cell_type": "code",
   "execution_count": 38,
   "metadata": {
    "collapsed": false
   },
   "outputs": [
    {
     "name": "stdout",
     "output_type": "stream",
     "text": [
      "Wall time: 7.68 s\n"
     ]
    }
   ],
   "source": [
    "%%time\n",
    "train = pd.read_csv(\"../data/train_2013.csv\", index_col=0)\n",
    "train = train.reset_index(drop=True)\n",
    "train = train[train[\"is_booking\"] == 1]\n",
    "np.random.seed(402)\n",
    "train = train.ix[np.random.choice(train.index, 50000)]\n",
    "train = train.reset_index(drop=True)\n"
   ]
  },
  {
   "cell_type": "code",
   "execution_count": 2,
   "metadata": {
    "collapsed": false
   },
   "outputs": [
    {
     "name": "stdout",
     "output_type": "stream",
     "text": [
      "read the train.csv\n",
      "read the test.csv\n",
      "modeling strart\n",
      "==================================================\n",
      "# Test shape : (2528243, 8)\n"
     ]
    },
    {
     "name": "stderr",
     "output_type": "stream",
     "text": [
      "C:\\Users\\Byeon\\Anaconda3\\envs\\py27\\lib\\site-packages\\ipykernel\\__main__.py:21: DataConversionWarning: A column-vector y was passed when a 1d array was expected. Please change the shape of y to (n_samples,), for example using ravel().\n"
     ]
    },
    {
     "name": "stdout",
     "output_type": "stream",
     "text": [
      "Wall time: 11min 58s\n"
     ]
    }
   ],
   "source": [
    "%%time\n",
    "train = pd.read_csv(\"../data/train_2013.csv\", index_col=0)\n",
    "train = train.reset_index(drop=True)\n",
    "train = train[train[\"is_booking\"] == 1]\n",
    "np.random.seed(402)\n",
    "train = train.ix[np.random.choice(train.index, 50000)]\n",
    "train = train.reset_index(drop=True)\n",
    "\n",
    "print(\"read the train.csv\")\n",
    "use_col3 = ['site_name', 'user_location_region', 'is_package', 'srch_adults_cnt', 'srch_children_cnt', 'srch_destination_id', 'hotel_market', 'hotel_country']\n",
    "train_y = train[[\"hotel_cluster\"]]\n",
    "train = train[use_col3]\n",
    "print(\"read the test.csv\")\n",
    "test = pd.read_csv(\"../data/test.csv\")\n",
    "test = test[use_col3]\n",
    "\n",
    "print(\"modeling strart\")\n",
    "model = RandomForestClassifier(n_estimators=10, max_depth=7, n_jobs=-1, random_state=777)\n",
    "print('='*50)\n",
    "print('# Test shape : {}'.format(test.shape))\n",
    "\n",
    "model.fit(train,train_y)\n",
    "\n",
    "preds = model.predict_proba(test)\n",
    "preds = np.fliplr(np.argsort(preds, axis=1))\n",
    "\n",
    "result_df = pd.DataFrame([ \" \".join(row) for row in preds[:,:5].astype(str)], columns=[\"hotel_cluster\"])\n",
    "result_df.index.names = [\"id\"]\n",
    "file_name = datetime.now().strftime(\"result_%Y%m%d%H%M%S\") + '.csv'\n",
    "print(\"save file\")\n",
    "result_df.to_csv(os.path.join('../output',file_name), index=True)"
   ]
  },
  {
   "cell_type": "markdown",
   "metadata": {
    "collapsed": true
   },
   "source": [
    "\n",
    "## result_20170206155850.csv => 0.15218 \n",
    "## is_booking == 1 인 친구들 기반"
   ]
  },
  {
   "cell_type": "code",
   "execution_count": 6,
   "metadata": {
    "collapsed": false
   },
   "outputs": [
    {
     "data": {
      "text/html": [
       "<div>\n",
       "<table border=\"1\" class=\"dataframe\">\n",
       "  <thead>\n",
       "    <tr style=\"text-align: right;\">\n",
       "      <th></th>\n",
       "      <th>site_name</th>\n",
       "      <th>user_location_region</th>\n",
       "      <th>is_package</th>\n",
       "      <th>srch_adults_cnt</th>\n",
       "      <th>srch_children_cnt</th>\n",
       "      <th>srch_destination_id</th>\n",
       "      <th>hotel_market</th>\n",
       "      <th>hotel_country</th>\n",
       "    </tr>\n",
       "  </thead>\n",
       "  <tbody>\n",
       "    <tr>\n",
       "      <th>0</th>\n",
       "      <td>2</td>\n",
       "      <td>331</td>\n",
       "      <td>0</td>\n",
       "      <td>1</td>\n",
       "      <td>0</td>\n",
       "      <td>12696</td>\n",
       "      <td>122</td>\n",
       "      <td>8</td>\n",
       "    </tr>\n",
       "    <tr>\n",
       "      <th>1</th>\n",
       "      <td>2</td>\n",
       "      <td>321</td>\n",
       "      <td>0</td>\n",
       "      <td>2</td>\n",
       "      <td>0</td>\n",
       "      <td>12189</td>\n",
       "      <td>637</td>\n",
       "      <td>50</td>\n",
       "    </tr>\n",
       "    <tr>\n",
       "      <th>2</th>\n",
       "      <td>2</td>\n",
       "      <td>348</td>\n",
       "      <td>0</td>\n",
       "      <td>1</td>\n",
       "      <td>0</td>\n",
       "      <td>2758</td>\n",
       "      <td>1916</td>\n",
       "      <td>31</td>\n",
       "    </tr>\n",
       "    <tr>\n",
       "      <th>3</th>\n",
       "      <td>2</td>\n",
       "      <td>315</td>\n",
       "      <td>0</td>\n",
       "      <td>4</td>\n",
       "      <td>2</td>\n",
       "      <td>8267</td>\n",
       "      <td>675</td>\n",
       "      <td>50</td>\n",
       "    </tr>\n",
       "    <tr>\n",
       "      <th>4</th>\n",
       "      <td>2</td>\n",
       "      <td>348</td>\n",
       "      <td>0</td>\n",
       "      <td>1</td>\n",
       "      <td>0</td>\n",
       "      <td>18741</td>\n",
       "      <td>462</td>\n",
       "      <td>50</td>\n",
       "    </tr>\n",
       "  </tbody>\n",
       "</table>\n",
       "</div>"
      ],
      "text/plain": [
       "   site_name  user_location_region  is_package  srch_adults_cnt  \\\n",
       "0          2                   331           0                1   \n",
       "1          2                   321           0                2   \n",
       "2          2                   348           0                1   \n",
       "3          2                   315           0                4   \n",
       "4          2                   348           0                1   \n",
       "\n",
       "   srch_children_cnt  srch_destination_id  hotel_market  hotel_country  \n",
       "0                  0                12696           122              8  \n",
       "1                  0                12189           637             50  \n",
       "2                  0                 2758          1916             31  \n",
       "3                  2                 8267           675             50  \n",
       "4                  0                18741           462             50  "
      ]
     },
     "execution_count": 6,
     "metadata": {},
     "output_type": "execute_result"
    }
   ],
   "source": [
    "train.head()"
   ]
  },
  {
   "cell_type": "code",
   "execution_count": null,
   "metadata": {
    "collapsed": true
   },
   "outputs": [],
   "source": []
  }
 ],
 "metadata": {
  "kernelspec": {
   "display_name": "Python 2",
   "language": "python",
   "name": "python2"
  },
  "language_info": {
   "codemirror_mode": {
    "name": "ipython",
    "version": 2
   },
   "file_extension": ".py",
   "mimetype": "text/x-python",
   "name": "python",
   "nbconvert_exporter": "python",
   "pygments_lexer": "ipython2",
   "version": "2.7.12"
  }
 },
 "nbformat": 4,
 "nbformat_minor": 0
}
